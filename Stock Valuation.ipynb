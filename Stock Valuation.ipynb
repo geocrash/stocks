{
 "cells": [
  {
   "cell_type": "code",
   "execution_count": 11,
   "id": "96a9d4d6",
   "metadata": {},
   "outputs": [],
   "source": [
    "from alpha_vantage.timeseries import TimeSeries\n",
    "import requests"
   ]
  },
  {
   "cell_type": "code",
   "execution_count": 23,
   "id": "1319a51e",
   "metadata": {},
   "outputs": [],
   "source": [
    "api_key = '.....'\n",
    "symbol = 'AAPL'  # Symbol for the company you want to retrieve data for"
   ]
  },
  {
   "cell_type": "code",
   "execution_count": 85,
   "id": "72bfc3ee",
   "metadata": {},
   "outputs": [],
   "source": [
    "ebidta_multiple = 21\n",
    "annual_growth = 0.07\n",
    "tax_rate = 0.21\n",
    "discount_rate = 0.10"
   ]
  },
  {
   "cell_type": "code",
   "execution_count": 35,
   "id": "6f08c360",
   "metadata": {},
   "outputs": [],
   "source": [
    "# Make a request to the Alpha Vantage API\n",
    "url_income_statement = f'https://www.alphavantage.co/query?function=INCOME_STATEMENT&symbol={symbol}&apikey={api_key}'\n",
    "response_is = requests.get(url_income_statement)\n",
    "data_is = response_is.json()\n",
    "\n",
    "url_balance_sheet = f'https://www.alphavantage.co/query?function=BALANCE_SHEET&symbol={symbol}&apikey={api_key}'\n",
    "response_bs = requests.get(url_balance_sheet)\n",
    "data_bs = response_bs.json()\n",
    "\n",
    "url_cash_flow = f'https://www.alphavantage.co/query?function=CASH_FLOW&symbol={symbol}&apikey={api_key}'\n",
    "response_cf = requests.get(url_cash_flow)\n",
    "data_cf = response_cf.json()"
   ]
  },
  {
   "cell_type": "code",
   "execution_count": 80,
   "id": "fdb0d07d",
   "metadata": {},
   "outputs": [],
   "source": [
    "# Extract the data\n",
    "income_statements = data_is['annualReports']\n",
    "balance_sheets = data_bs['annualReports']\n",
    "cash_flows = data_cf['annualReports']\n",
    "ebidta_0 = int(income_statements[0]['ebitda'])\n",
    "ebit_0 = int(income_statements[0]['ebit'])\n",
    "afterTax_0 = ebit_0 * (1 - tax_rate)\n",
    "capex_0 = int(cash_flows[0]['capitalExpenditures'])\n",
    "nwc_0 = int(balance_sheets[0]['totalAssets']) - int(balance_sheets[0]['totalLiabilities'])\n",
    "fcf_0 = afterTax_0 - capex_0 - nwc_0\n",
    "presentValue_0 = fcf_0\n",
    "totalDebt_0 = int(balance_sheets[0]['totalLiabilities'])\n",
    "cash_0 = int(balance_sheets[0]['cashAndCashEquivalentsAtCarryingValue'])\n",
    "netDebt_0 = totalDebt_0 - cash_0\n",
    "sharesOutstanding_0 = int(balance_sheets[0]['commonStockSharesOutstanding'])"
   ]
  },
  {
   "cell_type": "code",
   "execution_count": 81,
   "id": "4f69d8ad",
   "metadata": {},
   "outputs": [],
   "source": [
    "# EBIDTA\n",
    "ebidta_values = [ebidta_0]  # Create a list with the initial value\n",
    "for i in range(1, 6):  # Generate five additional values\n",
    "    ebidta_i = ebidta_values[i - 1] * (annual_growth + 1)\n",
    "    ebidta_values.append(ebidta_i)\n",
    "\n",
    "# EBIT\n",
    "ebit_values = [ebit_0]  # Create a list with the initial value\n",
    "for i in range(1, 6):  # Generate five additional values\n",
    "    ebit_i = ebit_values[i - 1] * (annual_growth + 1)\n",
    "    ebit_values.append(ebit_i)\n",
    "    \n",
    "# After Tax\n",
    "afterTax_values = [afterTax_0]  # Create a list with the initial value\n",
    "for i in range(1, 6):  # Generate five additional values\n",
    "    afterTax_i = ebit_values[i] * (1 - tax_rate)\n",
    "    afterTax_values.append(afterTax_i)\n",
    "\n",
    "# Net Working Capital\n",
    "nwc_values = [nwc_0]  # Create a list with the initial value\n",
    "for i in range(1, 6):  # Generate five additional values\n",
    "    nwc_i = nwc_values[i - 1] * (annual_growth + 1)\n",
    "    nwc_values.append(nwc_i)\n",
    "    \n",
    "# Capital Expenditure\n",
    "capex_values = [capex_0, capex_0, capex_0, capex_0, capex_0, capex_0]  # Create a list with the initial value\n",
    "\n",
    "# Free Cash Flow\n",
    "fcf_values = [fcf_0]  # Create a list with the initial value\n",
    "for i in range(1, 6):  # Generate five additional values\n",
    "    fcf_i = afterTax_values[i] - nwc_values[i] - capex_values[i]\n",
    "    fcf_values.append(fcf_i)\n",
    "    \n",
    "# Present Value\n",
    "presentValue_values = [presentValue_0]  # Create a list with the initial value\n",
    "for i in range(1, 6):  # Generate five additional values\n",
    "    presentValue_i = fcf_values[i] / ((1 + discount_rate)**(i))\n",
    "    presentValue_values.append(presentValue_i)\n",
    "\n",
    "presentValueSum = sum(presentValue_values)"
   ]
  },
  {
   "cell_type": "markdown",
   "id": "595179a0",
   "metadata": {},
   "source": [
    "# Perpetual Growth"
   ]
  },
  {
   "cell_type": "code",
   "execution_count": 82,
   "id": "7f596248",
   "metadata": {},
   "outputs": [
    {
     "name": "stdout",
     "output_type": "stream",
     "text": [
      "55.309410560609706\n"
     ]
    }
   ],
   "source": [
    "longTermGrowth_rate = 0.04\n",
    "fcf_n = fcf_values[-1] * (1 + longTermGrowth_rate)\n",
    "terminalValue_n = fcf_n / (discount_rate - longTermGrowth_rate)\n",
    "pv_of_tv = terminalValue_n / ((1 + discount_rate)**5)\n",
    "net_debt = netDebt_0\n",
    "dcf_value = presentValueSum + pv_of_tv - net_debt\n",
    "share_outstanding = sharesOutstanding_0\n",
    "equity_value = dcf_value / share_outstanding\n",
    "print(equity_value)"
   ]
  },
  {
   "cell_type": "markdown",
   "id": "c61a3d16",
   "metadata": {},
   "source": [
    "# EBIDTA"
   ]
  },
  {
   "cell_type": "code",
   "execution_count": 87,
   "id": "3cc78946",
   "metadata": {},
   "outputs": [
    {
     "name": "stdout",
     "output_type": "stream",
     "text": [
      "145.74138316666824\n"
     ]
    }
   ],
   "source": [
    "tv_2026 = ebidta_multiple * ebidta_values[-1]\n",
    "pv_of_tv2 = tv_2026 / ((1 + discount_rate)**(5))\n",
    "enterprise_value = presentValueSum + pv_of_tv2 - net_debt\n",
    "equity_value2 = enterprise_value / share_outstanding\n",
    "print(equity_value2)"
   ]
  },
  {
   "cell_type": "markdown",
   "id": "07dfc47b",
   "metadata": {},
   "source": [
    "# Final Analysis"
   ]
  },
  {
   "cell_type": "code",
   "execution_count": null,
   "id": "ed8c6a22",
   "metadata": {},
   "outputs": [],
   "source": []
  },
  {
   "cell_type": "code",
   "execution_count": null,
   "id": "5914406e",
   "metadata": {},
   "outputs": [],
   "source": [
    "df = pd.DataFrame(data=values, index=['EBIDTA', 'Earnings after DA', 'Applicable Tax Rate', 'After Tax',\n",
    "'Net Working Capital', 'CAPEX', 'FCF', 'Discount Rate', 'Present Values', 'Annual Growth Rate', 'PV Sum'],\n",
    "columns=['2021', '2022', '2023', '2024', '2025', '2026'])\n",
    "df1 = pd.DataFrame(data=pp, index=['Long Term Growth Rate', '2026 FCF x (1+LTGR)', 'Terminal value 2026', 'PV of TV',\n",
    "'DCF VALUE', 'Total Debt', 'Non Operating Assets', 'Net Debt'], columns=['Values'])\n",
    "df2 = pd.DataFrame(data=eb, index=['EBITDA Multiple', 'Terminal Value in 2026', 'PV of TV', 'Enterprise Value'], columns=['Values'])"
   ]
  },
  {
   "cell_type": "code",
   "execution_count": 83,
   "id": "856bcd32",
   "metadata": {},
   "outputs": [
    {
     "name": "stdout",
     "output_type": "stream",
     "text": [
      "-----------------------------------------------------\n"
     ]
    },
    {
     "ename": "NameError",
     "evalue": "name 'stock' is not defined",
     "output_type": "error",
     "traceback": [
      "\u001b[1;31m---------------------------------------------------------------------------\u001b[0m",
      "\u001b[1;31mNameError\u001b[0m                                 Traceback (most recent call last)",
      "\u001b[1;32m~\\AppData\\Local\\Temp\\ipykernel_13896\\3865663449.py\u001b[0m in \u001b[0;36m<module>\u001b[1;34m\u001b[0m\n\u001b[0;32m      1\u001b[0m \u001b[0mprint\u001b[0m\u001b[1;33m(\u001b[0m\u001b[1;34m'-----------------------------------------------------'\u001b[0m\u001b[1;33m)\u001b[0m\u001b[1;33m\u001b[0m\u001b[1;33m\u001b[0m\u001b[0m\n\u001b[1;32m----> 2\u001b[1;33m \u001b[0mprint\u001b[0m\u001b[1;33m(\u001b[0m\u001b[1;34m'Determining Company Intrinsic Value for: '\u001b[0m \u001b[1;33m,\u001b[0m \u001b[0mstock\u001b[0m\u001b[1;33m)\u001b[0m\u001b[1;33m\u001b[0m\u001b[1;33m\u001b[0m\u001b[0m\n\u001b[0m\u001b[0;32m      3\u001b[0m \u001b[0mprint\u001b[0m\u001b[1;33m(\u001b[0m\u001b[1;34m'Retrieving Data...'\u001b[0m\u001b[1;33m)\u001b[0m\u001b[1;33m\u001b[0m\u001b[1;33m\u001b[0m\u001b[0m\n\u001b[0;32m      4\u001b[0m \u001b[0mprint\u001b[0m\u001b[1;33m(\u001b[0m\u001b[1;34m'-----------------------------------------------------\\n'\u001b[0m\u001b[1;33m)\u001b[0m\u001b[1;33m\u001b[0m\u001b[1;33m\u001b[0m\u001b[0m\n",
      "\u001b[1;31mNameError\u001b[0m: name 'stock' is not defined"
     ]
    }
   ],
   "source": [
    "print('-----------------------------------------------------')\n",
    "print('Determining Company Intrinsic Value for: ' , symbol)\n",
    "print('Retrieving Data...')\n",
    "print('-----------------------------------------------------\\n')\n",
    "print(tabulate(df, headers='keys', tablefmt='psql'))\n",
    "print('\\n-----------------------------------------------------')\n",
    "print('Perpetual Growth Valuation')\n",
    "print('Retrieving Data...')\n",
    "print('-----------------------------------------------------\\n')\n",
    "print(tabulate(df1, headers='keys', tablefmt='psql'))\n",
    "print('\\n-----------------------------------------------------')\n",
    "print('EBITDA Multiple Growth')\n",
    "print('Retrieving Data...')\n",
    "print('-----------------------------------------------------\\n')"
   ]
  },
  {
   "cell_type": "code",
   "execution_count": null,
   "id": "adfafe11",
   "metadata": {},
   "outputs": [],
   "source": []
  }
 ],
 "metadata": {
  "kernelspec": {
   "display_name": "Python 3 (ipykernel)",
   "language": "python",
   "name": "python3"
  },
  "language_info": {
   "codemirror_mode": {
    "name": "ipython",
    "version": 3
   },
   "file_extension": ".py",
   "mimetype": "text/x-python",
   "name": "python",
   "nbconvert_exporter": "python",
   "pygments_lexer": "ipython3",
   "version": "3.9.13"
  }
 },
 "nbformat": 4,
 "nbformat_minor": 5
}
